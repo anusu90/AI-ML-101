{
 "cells": [
  {
   "cell_type": "markdown",
   "metadata": {},
   "source": [
    "# Problem Statement"
   ]
  },
  {
   "cell_type": "markdown",
   "metadata": {},
   "source": [
    "Ecommerce company is evaluating the customer experience. So they run a survey among the customers to understand the feedback from the customers. They see that late delivery is one most frequent problem faced by the customer. However, the consumer experience manager says that the late delivery % is similar to industry average. We should do hypothesis test to compare organization with industry average which is 0.06.\n",
    "\n",
    "Establish the fact that organization has a poor record in delivery. Evaluate the current algorithm to estimate delivery. The current algo is simplistic. We decide to build a intelligent system which predict delivery date by taking lot of factor into account. We roll out this algorithm for 10% of customer. Compare complaint % between the two samples "
   ]
  },
  {
   "cell_type": "markdown",
   "metadata": {},
   "source": [
    "# Solution"
   ]
  },
  {
   "cell_type": "code",
   "execution_count": 2,
   "metadata": {},
   "outputs": [],
   "source": [
    "import numpy as np\n",
    "import pandas as pd\n",
    "import matplotlib.pyplot as plt\n",
    "import seaborn as sns\n",
    "from statsmodels.stats.weightstats import ttest_ind, ztest\n",
    "from statsmodels.stats.proportion import proportions_ztest\n",
    "from statsmodels.stats.power import tt_ind_solve_power\n",
    "import scipy.stats as sc\n",
    "from scipy.stats import binom, norm, ttest_rel\n",
    "from IPython.display import Image"
   ]
  },
  {
   "cell_type": "code",
   "execution_count": 36,
   "metadata": {},
   "outputs": [
    {
     "data": {
      "text/plain": [
       "Timestamp('2017-02-07 00:00:00')"
      ]
     },
     "execution_count": 36,
     "metadata": {},
     "output_type": "execute_result"
    }
   ],
   "source": [
    "orders = pd.read_csv('ecommerce_orders.csv')\n",
    "\n",
    "pd.to_datetime(orders[\"order_estimated_delivery_date\"][0])"
   ]
  },
  {
   "cell_type": "code",
   "execution_count": 6,
   "metadata": {},
   "outputs": [
    {
     "data": {
      "text/plain": [
       "Index(['review_id', 'review_score', 'review_creation_date', 'review_title',\n",
       "       'order_id'],\n",
       "      dtype='object')"
      ]
     },
     "execution_count": 6,
     "metadata": {},
     "output_type": "execute_result"
    }
   ],
   "source": [
    "# Reading reviews data\n",
    "reviews = pd.read_csv('ecommerce_reviews.csv')\n",
    "\n",
    "reviews.columns"
   ]
  },
  {
   "cell_type": "code",
   "execution_count": 116,
   "metadata": {},
   "outputs": [],
   "source": [
    "# Merging the orders dataset with the reviews dataset\n",
    "order_reviews = pd.merge(orders, reviews, how='left', left_on='order_id', right_on= 'order_id')"
   ]
  },
  {
   "cell_type": "code",
   "execution_count": 118,
   "metadata": {},
   "outputs": [],
   "source": [
    "# Removing any missing values in the order_ids and delivery dates\n",
    "order_reviews = order_reviews.dropna(subset = ['order_id', 'order_delivered_customer_date'])"
   ]
  },
  {
   "cell_type": "code",
   "execution_count": 10,
   "metadata": {},
   "outputs": [
    {
     "name": "stdout",
     "output_type": "stream",
     "text": [
      "<class 'pandas.core.frame.DataFrame'>\n",
      "Int64Index: 61005 entries, 0 to 61004\n",
      "Data columns (total 12 columns):\n",
      " #   Column                         Non-Null Count  Dtype \n",
      "---  ------                         --------------  ----- \n",
      " 0   order_id                       61005 non-null  object\n",
      " 1   customer_id                    61005 non-null  object\n",
      " 2   order_status                   61005 non-null  object\n",
      " 3   order_purchase_timestamp       61005 non-null  object\n",
      " 4   order_approved_at              60991 non-null  object\n",
      " 5   order_delivered_carrier_date   61004 non-null  object\n",
      " 6   order_delivered_customer_date  61005 non-null  object\n",
      " 7   order_estimated_delivery_date  61005 non-null  object\n",
      " 8   review_id                      61005 non-null  object\n",
      " 9   review_score                   61005 non-null  int64 \n",
      " 10  review_creation_date           61005 non-null  object\n",
      " 11  review_title                   24912 non-null  object\n",
      "dtypes: int64(1), object(11)\n",
      "memory usage: 6.1+ MB\n"
     ]
    }
   ],
   "source": [
    "order_reviews.info()"
   ]
  },
  {
   "cell_type": "code",
   "execution_count": 119,
   "metadata": {},
   "outputs": [],
   "source": [
    "# Sorting the value by the date\n",
    "order_reviews = order_reviews.sort_values(by='order_delivered_customer_date').reset_index(drop=True)"
   ]
  },
  {
   "cell_type": "code",
   "execution_count": 120,
   "metadata": {},
   "outputs": [],
   "source": [
    "# Removing duplicate values from the order_reviews dataset\n",
    "order_reviews = order_reviews.drop_duplicates(subset='order_id')"
   ]
  },
  {
   "cell_type": "code",
   "execution_count": 121,
   "metadata": {},
   "outputs": [],
   "source": [
    "# Dropping columns irrelevant to the problem statement\n",
    "order_reviews = order_reviews.drop(columns = ['customer_id', 'order_status', 'order_purchase_timestamp', 'order_delivered_carrier_date'])"
   ]
  },
  {
   "cell_type": "markdown",
   "metadata": {},
   "source": [
    "### 1. Establish the fact that organization has a poor record in delivery. "
   ]
  },
  {
   "cell_type": "code",
   "execution_count": 122,
   "metadata": {},
   "outputs": [
    {
     "data": {
      "text/plain": [
       "(-10.0, 60.0)"
      ]
     },
     "execution_count": 122,
     "metadata": {},
     "output_type": "execute_result"
    },
    {
     "data": {
      "image/png": "[encoded data removed]",
      "text/plain": [
       "<Figure size 720x288 with 1 Axes>"
      ]
     },
     "metadata": {
      "needs_background": "light"
     },
     "output_type": "display_data"
    }
   ],
   "source": [
    "# Comparing the actual delivery time against the estimated delivery time\n",
    "\n",
    "# Converting all the dates to pandas datetime format\n",
    "order_reviews['order_approved_at'] = pd.to_datetime(order_reviews['order_approved_at'])\n",
    "order_reviews['order_estimated_delivery_date'] = pd.to_datetime(order_reviews['order_estimated_delivery_date'])\n",
    "order_reviews['order_delivered_customer_date'] = pd.to_datetime(order_reviews['order_delivered_customer_date'])\n",
    "\n",
    "# Calculate actual delivery time from customer buying the product to receiveing the product\n",
    "order_reviews['actual_delivery_time'] = (order_reviews['order_delivered_customer_date'] - order_reviews['order_approved_at']).dt.total_seconds() / 86400\n",
    "\n",
    "# Calculating the estimated delivery time\n",
    "order_reviews['estimated_delivery_time'] = (order_reviews['order_estimated_delivery_date'] - order_reviews['order_approved_at']).dt.total_seconds() / 86400\n",
    "\n",
    "# Comparing the actual delivery time and estimated delivery time\n",
    "plt.figure(figsize=(10,4))\n",
    "plt.title(\"Delivery time in days\")\n",
    "\n",
    "ax1 = sns.kdeplot(order_reviews['actual_delivery_time'].dropna(), color=\"red\", label='Actual Delivery time')\n",
    "ax2 = sns.kdeplot(order_reviews['estimated_delivery_time'].dropna(), color=\"blue\", label='Estimated delivery time')\n",
    "\n",
    "plt.xlim(-10, 60)"
   ]
  },
  {
   "cell_type": "markdown",
   "metadata": {},
   "source": [
    "### Comparing the means between **'actual_delivery_time'** and **'estimated_delivery_time'**"
   ]
  },
  {
   "cell_type": "code",
   "execution_count": 123,
   "metadata": {},
   "outputs": [],
   "source": [
    "# Testing for a significant difference between the estimated delivery time and actual delivery time\n",
    "sample1 = np.array(order_reviews['actual_delivery_time'].dropna())\n",
    "sample2 = np.array(order_reviews['estimated_delivery_time'].dropna())"
   ]
  },
  {
   "cell_type": "code",
   "execution_count": 124,
   "metadata": {},
   "outputs": [
    {
     "data": {
      "image/png": "[encoded data removed]",
      "text/plain": [
       "<IPython.core.display.Image object>"
      ]
     },
     "execution_count": 124,
     "metadata": {},
     "output_type": "execute_result"
    }
   ],
   "source": [
    "Image('Hypothesis_comparing_means.png')"
   ]
  },
  {
   "cell_type": "markdown",
   "metadata": {},
   "source": [
    "### Testing matched samples t tests"
   ]
  },
  {
   "cell_type": "code",
   "execution_count": 125,
   "metadata": {},
   "outputs": [],
   "source": [
    "# Matched sample test\n",
    "t_statistic, p_value = ttest_rel(sample1, sample2)"
   ]
  },
  {
   "cell_type": "code",
   "execution_count": 126,
   "metadata": {},
   "outputs": [
    {
     "name": "stdout",
     "output_type": "stream",
     "text": [
      "P value =  1.1313533589878193e-09\n",
      "Reject H0\n",
      "There is a significant difference between the estimated delivery time and actual delivery time\n"
     ]
    }
   ],
   "source": [
    "α = 0.05\n",
    "\n",
    "# Checking p value against α\n",
    "if p_value < α:\n",
    "    print('P value = ', p_value)\n",
    "    print('Reject H0')\n",
    "    print('There is a significant difference between the estimated delivery time and actual delivery time')\n",
    "else:\n",
    "    print('P value = ', p_value)\n",
    "    print('Cannot Reject H0')"
   ]
  },
  {
   "cell_type": "code",
   "execution_count": null,
   "metadata": {},
   "outputs": [],
   "source": []
  },
  {
   "cell_type": "code",
   "execution_count": 127,
   "metadata": {},
   "outputs": [
    {
     "data": {
      "text/plain": [
       "4"
      ]
     },
     "execution_count": 127,
     "metadata": {},
     "output_type": "execute_result"
    }
   ],
   "source": [
    "pd.to_datetime(\"19042021\", format=\"%d%m%Y\").month"
   ]
  },
  {
   "cell_type": "code",
   "execution_count": 128,
   "metadata": {},
   "outputs": [
    {
     "name": "stdout",
     "output_type": "stream",
     "text": [
      "<class 'pandas.core.frame.DataFrame'>\n",
      "Int64Index: 61005 entries, 0 to 61004\n",
      "Data columns (total 10 columns):\n",
      " #   Column                         Non-Null Count  Dtype         \n",
      "---  ------                         --------------  -----         \n",
      " 0   order_id                       61005 non-null  object        \n",
      " 1   order_approved_at              60991 non-null  datetime64[ns]\n",
      " 2   order_delivered_customer_date  61005 non-null  datetime64[ns]\n",
      " 3   order_estimated_delivery_date  61005 non-null  datetime64[ns]\n",
      " 4   review_id                      61005 non-null  object        \n",
      " 5   review_score                   61005 non-null  int64         \n",
      " 6   review_creation_date           61005 non-null  object        \n",
      " 7   review_title                   24912 non-null  object        \n",
      " 8   actual_delivery_time           60991 non-null  float64       \n",
      " 9   estimated_delivery_time        60991 non-null  float64       \n",
      "dtypes: datetime64[ns](3), float64(2), int64(1), object(4)\n",
      "memory usage: 5.1+ MB\n"
     ]
    }
   ],
   "source": [
    "order_reviews.info()"
   ]
  },
  {
   "cell_type": "code",
   "execution_count": 129,
   "metadata": {},
   "outputs": [
    {
     "data": {
      "text/plain": [
       "Late Delivery             3985\n",
       "Great Customer Service    3170\n",
       "Great product             3035\n",
       "Bad Quality               2996\n",
       "Wrong Product             2975\n",
       "Product was broken        2964\n",
       "Bad Customer Service      2946\n",
       "Not User Friendly         2841\n",
       "Name: review_title, dtype: int64"
      ]
     },
     "execution_count": 129,
     "metadata": {},
     "output_type": "execute_result"
    }
   ],
   "source": [
    "# Frequency of reviews given by customers\n",
    "order_reviews.review_title.value_counts()"
   ]
  },
  {
   "cell_type": "code",
   "execution_count": 130,
   "metadata": {},
   "outputs": [
    {
     "name": "stderr",
     "output_type": "stream",
     "text": [
      "<ipython-input-130-70738250db86>:4: FutureWarning: Series.dt.weekofyear and Series.dt.week have been deprecated.  Please use Series.dt.isocalendar().week instead.\n",
      "  order_reviews['delivery_week'] = order_reviews['order_delivered_customer_date'].dt.week.astype(str)\n"
     ]
    }
   ],
   "source": [
    "# Weekly Analysis of the reviews\n",
    "\n",
    "# Week number when the customer recieved the delivery\n",
    "order_reviews['delivery_week'] = order_reviews['order_delivered_customer_date'].dt.week.astype(str)\n",
    "\n",
    "# Year number when the customer recieved the delivery\n",
    "order_reviews['delivery_year'] = order_reviews['order_delivered_customer_date'].dt.year.astype(str)\n",
    "\n",
    "# Creating a unique identifier for the week and the year of the date when the order was delivered\n",
    "order_reviews['delivery_year_week'] = order_reviews['delivery_year'] + order_reviews['delivery_week']"
   ]
  },
  {
   "cell_type": "code",
   "execution_count": 131,
   "metadata": {},
   "outputs": [],
   "source": [
    "pd.set_option('display.max_rows', order_reviews.shape[0]+1)"
   ]
  },
  {
   "cell_type": "code",
   "execution_count": null,
   "metadata": {},
   "outputs": [],
   "source": []
  },
  {
   "cell_type": "code",
   "execution_count": 132,
   "metadata": {},
   "outputs": [],
   "source": [
    " df = pd.DataFrame(\n",
    "   ...:     [\n",
    "   ...:         (\"bird\", \"Falconiformes\", 389.0),\n",
    "   ...:         (\"bird\", \"Psittaciformes\", 24.0),\n",
    "   ...:         (\"mammal\", \"Carnivora\", 80.2),\n",
    "   ...:         (\"mammal\", \"Primates\", np.nan),\n",
    "   ...:         (\"mammal\", \"Carnivora\", 58),\n",
    "   ...:     ],\n",
    "   ...:     index=[\"falcon\", \"parrot\", \"lion\", \"monkey\", \"leopard\"],\n",
    "   ...:     columns=(\"class\", \"order\", \"max_speed\"),\n",
    "   ...: )"
   ]
  },
  {
   "cell_type": "code",
   "execution_count": 73,
   "metadata": {},
   "outputs": [
    {
     "data": {
      "text/plain": [
       "pandas.core.frame.DataFrame"
      ]
     },
     "execution_count": 73,
     "metadata": {},
     "output_type": "execute_result"
    }
   ],
   "source": [
    "type(df)"
   ]
  },
  {
   "cell_type": "code",
   "execution_count": 72,
   "metadata": {},
   "outputs": [
    {
     "ename": "TypeError",
     "evalue": "<lambda>() got an unexpected keyword argument 'axis'",
     "output_type": "error",
     "traceback": [
      "\u001b[0;31m---------------------------------------------------------------------------\u001b[0m",
      "\u001b[0;31mTypeError\u001b[0m                                 Traceback (most recent call last)",
      "\u001b[0;32m/opt/anaconda3/lib/python3.8/site-packages/pandas/core/groupby/groupby.py\u001b[0m in \u001b[0;36mapply\u001b[0;34m(self, func, *args, **kwargs)\u001b[0m\n\u001b[1;32m    858\u001b[0m             \u001b[0;32mtry\u001b[0m\u001b[0;34m:\u001b[0m\u001b[0;34m\u001b[0m\u001b[0;34m\u001b[0m\u001b[0m\n\u001b[0;32m--> 859\u001b[0;31m                 \u001b[0mresult\u001b[0m \u001b[0;34m=\u001b[0m \u001b[0mself\u001b[0m\u001b[0;34m.\u001b[0m\u001b[0m_python_apply_general\u001b[0m\u001b[0;34m(\u001b[0m\u001b[0mf\u001b[0m\u001b[0;34m,\u001b[0m \u001b[0mself\u001b[0m\u001b[0;34m.\u001b[0m\u001b[0m_selected_obj\u001b[0m\u001b[0;34m)\u001b[0m\u001b[0;34m\u001b[0m\u001b[0;34m\u001b[0m\u001b[0m\n\u001b[0m\u001b[1;32m    860\u001b[0m             \u001b[0;32mexcept\u001b[0m \u001b[0mTypeError\u001b[0m\u001b[0;34m:\u001b[0m\u001b[0;34m\u001b[0m\u001b[0;34m\u001b[0m\u001b[0m\n",
      "\u001b[0;32m/opt/anaconda3/lib/python3.8/site-packages/pandas/core/groupby/groupby.py\u001b[0m in \u001b[0;36m_python_apply_general\u001b[0;34m(self, f, data)\u001b[0m\n\u001b[1;32m    891\u001b[0m         \"\"\"\n\u001b[0;32m--> 892\u001b[0;31m         \u001b[0mkeys\u001b[0m\u001b[0;34m,\u001b[0m \u001b[0mvalues\u001b[0m\u001b[0;34m,\u001b[0m \u001b[0mmutated\u001b[0m \u001b[0;34m=\u001b[0m \u001b[0mself\u001b[0m\u001b[0;34m.\u001b[0m\u001b[0mgrouper\u001b[0m\u001b[0;34m.\u001b[0m\u001b[0mapply\u001b[0m\u001b[0;34m(\u001b[0m\u001b[0mf\u001b[0m\u001b[0;34m,\u001b[0m \u001b[0mdata\u001b[0m\u001b[0;34m,\u001b[0m \u001b[0mself\u001b[0m\u001b[0;34m.\u001b[0m\u001b[0maxis\u001b[0m\u001b[0;34m)\u001b[0m\u001b[0;34m\u001b[0m\u001b[0;34m\u001b[0m\u001b[0m\n\u001b[0m\u001b[1;32m    893\u001b[0m \u001b[0;34m\u001b[0m\u001b[0m\n",
      "\u001b[0;32m/opt/anaconda3/lib/python3.8/site-packages/pandas/core/groupby/ops.py\u001b[0m in \u001b[0;36mapply\u001b[0;34m(self, f, data, axis)\u001b[0m\n\u001b[1;32m    212\u001b[0m             \u001b[0mgroup_axes\u001b[0m \u001b[0;34m=\u001b[0m \u001b[0mgroup\u001b[0m\u001b[0;34m.\u001b[0m\u001b[0maxes\u001b[0m\u001b[0;34m\u001b[0m\u001b[0;34m\u001b[0m\u001b[0m\n\u001b[0;32m--> 213\u001b[0;31m             \u001b[0mres\u001b[0m \u001b[0;34m=\u001b[0m \u001b[0mf\u001b[0m\u001b[0;34m(\u001b[0m\u001b[0mgroup\u001b[0m\u001b[0;34m)\u001b[0m\u001b[0;34m\u001b[0m\u001b[0;34m\u001b[0m\u001b[0m\n\u001b[0m\u001b[1;32m    214\u001b[0m             \u001b[0;32mif\u001b[0m \u001b[0;32mnot\u001b[0m \u001b[0m_is_indexed_like\u001b[0m\u001b[0;34m(\u001b[0m\u001b[0mres\u001b[0m\u001b[0;34m,\u001b[0m \u001b[0mgroup_axes\u001b[0m\u001b[0;34m)\u001b[0m\u001b[0;34m:\u001b[0m\u001b[0;34m\u001b[0m\u001b[0;34m\u001b[0m\u001b[0m\n",
      "\u001b[0;32m/opt/anaconda3/lib/python3.8/site-packages/pandas/core/groupby/groupby.py\u001b[0m in \u001b[0;36mf\u001b[0;34m(g)\u001b[0m\n\u001b[1;32m    842\u001b[0m                     \u001b[0;32mwith\u001b[0m \u001b[0mnp\u001b[0m\u001b[0;34m.\u001b[0m\u001b[0merrstate\u001b[0m\u001b[0;34m(\u001b[0m\u001b[0mall\u001b[0m\u001b[0;34m=\u001b[0m\u001b[0;34m\"ignore\"\u001b[0m\u001b[0;34m)\u001b[0m\u001b[0;34m:\u001b[0m\u001b[0;34m\u001b[0m\u001b[0;34m\u001b[0m\u001b[0m\n\u001b[0;32m--> 843\u001b[0;31m                         \u001b[0;32mreturn\u001b[0m \u001b[0mfunc\u001b[0m\u001b[0;34m(\u001b[0m\u001b[0mg\u001b[0m\u001b[0;34m,\u001b[0m \u001b[0;34m*\u001b[0m\u001b[0margs\u001b[0m\u001b[0;34m,\u001b[0m \u001b[0;34m**\u001b[0m\u001b[0mkwargs\u001b[0m\u001b[0;34m)\u001b[0m\u001b[0;34m\u001b[0m\u001b[0;34m\u001b[0m\u001b[0m\n\u001b[0m\u001b[1;32m    844\u001b[0m \u001b[0;34m\u001b[0m\u001b[0m\n",
      "\u001b[0;31mTypeError\u001b[0m: <lambda>() got an unexpected keyword argument 'axis'",
      "\nDuring handling of the above exception, another exception occurred:\n",
      "\u001b[0;31mTypeError\u001b[0m                                 Traceback (most recent call last)",
      "\u001b[0;32m<ipython-input-72-73206a8dd9a6>\u001b[0m in \u001b[0;36m<module>\u001b[0;34m\u001b[0m\n\u001b[1;32m      1\u001b[0m \u001b[0mfunc\u001b[0m \u001b[0;34m=\u001b[0m \u001b[0;32mlambda\u001b[0m \u001b[0mx\u001b[0m\u001b[0;34m:\u001b[0m\u001b[0mx\u001b[0m\u001b[0;34m\u001b[0m\u001b[0;34m\u001b[0m\u001b[0m\n\u001b[0;32m----> 2\u001b[0;31m \u001b[0mdf\u001b[0m\u001b[0;34m.\u001b[0m\u001b[0mgroupby\u001b[0m\u001b[0;34m(\u001b[0m\u001b[0;34m\"class\"\u001b[0m\u001b[0;34m)\u001b[0m\u001b[0;34m.\u001b[0m\u001b[0mapply\u001b[0m\u001b[0;34m(\u001b[0m\u001b[0mfunc\u001b[0m \u001b[0;34m,\u001b[0m \u001b[0maxis\u001b[0m\u001b[0;34m=\u001b[0m\u001b[0;36m1\u001b[0m\u001b[0;34m)\u001b[0m\u001b[0;34m\u001b[0m\u001b[0;34m\u001b[0m\u001b[0m\n\u001b[0m",
      "\u001b[0;32m/opt/anaconda3/lib/python3.8/site-packages/pandas/core/groupby/groupby.py\u001b[0m in \u001b[0;36mapply\u001b[0;34m(self, func, *args, **kwargs)\u001b[0m\n\u001b[1;32m    868\u001b[0m \u001b[0;34m\u001b[0m\u001b[0m\n\u001b[1;32m    869\u001b[0m                 \u001b[0;32mwith\u001b[0m \u001b[0m_group_selection_context\u001b[0m\u001b[0;34m(\u001b[0m\u001b[0mself\u001b[0m\u001b[0;34m)\u001b[0m\u001b[0;34m:\u001b[0m\u001b[0;34m\u001b[0m\u001b[0;34m\u001b[0m\u001b[0m\n\u001b[0;32m--> 870\u001b[0;31m                     \u001b[0;32mreturn\u001b[0m \u001b[0mself\u001b[0m\u001b[0;34m.\u001b[0m\u001b[0m_python_apply_general\u001b[0m\u001b[0;34m(\u001b[0m\u001b[0mf\u001b[0m\u001b[0;34m,\u001b[0m \u001b[0mself\u001b[0m\u001b[0;34m.\u001b[0m\u001b[0m_selected_obj\u001b[0m\u001b[0;34m)\u001b[0m\u001b[0;34m\u001b[0m\u001b[0;34m\u001b[0m\u001b[0m\n\u001b[0m\u001b[1;32m    871\u001b[0m \u001b[0;34m\u001b[0m\u001b[0m\n\u001b[1;32m    872\u001b[0m         \u001b[0;32mreturn\u001b[0m \u001b[0mresult\u001b[0m\u001b[0;34m\u001b[0m\u001b[0;34m\u001b[0m\u001b[0m\n",
      "\u001b[0;32m/opt/anaconda3/lib/python3.8/site-packages/pandas/core/groupby/groupby.py\u001b[0m in \u001b[0;36m_python_apply_general\u001b[0;34m(self, f, data)\u001b[0m\n\u001b[1;32m    890\u001b[0m             \u001b[0mdata\u001b[0m \u001b[0mafter\u001b[0m \u001b[0mapplying\u001b[0m \u001b[0mf\u001b[0m\u001b[0;34m\u001b[0m\u001b[0;34m\u001b[0m\u001b[0m\n\u001b[1;32m    891\u001b[0m         \"\"\"\n\u001b[0;32m--> 892\u001b[0;31m         \u001b[0mkeys\u001b[0m\u001b[0;34m,\u001b[0m \u001b[0mvalues\u001b[0m\u001b[0;34m,\u001b[0m \u001b[0mmutated\u001b[0m \u001b[0;34m=\u001b[0m \u001b[0mself\u001b[0m\u001b[0;34m.\u001b[0m\u001b[0mgrouper\u001b[0m\u001b[0;34m.\u001b[0m\u001b[0mapply\u001b[0m\u001b[0;34m(\u001b[0m\u001b[0mf\u001b[0m\u001b[0;34m,\u001b[0m \u001b[0mdata\u001b[0m\u001b[0;34m,\u001b[0m \u001b[0mself\u001b[0m\u001b[0;34m.\u001b[0m\u001b[0maxis\u001b[0m\u001b[0;34m)\u001b[0m\u001b[0;34m\u001b[0m\u001b[0;34m\u001b[0m\u001b[0m\n\u001b[0m\u001b[1;32m    893\u001b[0m \u001b[0;34m\u001b[0m\u001b[0m\n\u001b[1;32m    894\u001b[0m         return self._wrap_applied_output(\n",
      "\u001b[0;32m/opt/anaconda3/lib/python3.8/site-packages/pandas/core/groupby/ops.py\u001b[0m in \u001b[0;36mapply\u001b[0;34m(self, f, data, axis)\u001b[0m\n\u001b[1;32m    211\u001b[0m             \u001b[0;31m# group might be modified\u001b[0m\u001b[0;34m\u001b[0m\u001b[0;34m\u001b[0m\u001b[0;34m\u001b[0m\u001b[0m\n\u001b[1;32m    212\u001b[0m             \u001b[0mgroup_axes\u001b[0m \u001b[0;34m=\u001b[0m \u001b[0mgroup\u001b[0m\u001b[0;34m.\u001b[0m\u001b[0maxes\u001b[0m\u001b[0;34m\u001b[0m\u001b[0;34m\u001b[0m\u001b[0m\n\u001b[0;32m--> 213\u001b[0;31m             \u001b[0mres\u001b[0m \u001b[0;34m=\u001b[0m \u001b[0mf\u001b[0m\u001b[0;34m(\u001b[0m\u001b[0mgroup\u001b[0m\u001b[0;34m)\u001b[0m\u001b[0;34m\u001b[0m\u001b[0;34m\u001b[0m\u001b[0m\n\u001b[0m\u001b[1;32m    214\u001b[0m             \u001b[0;32mif\u001b[0m \u001b[0;32mnot\u001b[0m \u001b[0m_is_indexed_like\u001b[0m\u001b[0;34m(\u001b[0m\u001b[0mres\u001b[0m\u001b[0;34m,\u001b[0m \u001b[0mgroup_axes\u001b[0m\u001b[0;34m)\u001b[0m\u001b[0;34m:\u001b[0m\u001b[0;34m\u001b[0m\u001b[0;34m\u001b[0m\u001b[0m\n\u001b[1;32m    215\u001b[0m                 \u001b[0mmutated\u001b[0m \u001b[0;34m=\u001b[0m \u001b[0;32mTrue\u001b[0m\u001b[0;34m\u001b[0m\u001b[0;34m\u001b[0m\u001b[0m\n",
      "\u001b[0;32m/opt/anaconda3/lib/python3.8/site-packages/pandas/core/groupby/groupby.py\u001b[0m in \u001b[0;36mf\u001b[0;34m(g)\u001b[0m\n\u001b[1;32m    841\u001b[0m                 \u001b[0;32mdef\u001b[0m \u001b[0mf\u001b[0m\u001b[0;34m(\u001b[0m\u001b[0mg\u001b[0m\u001b[0;34m)\u001b[0m\u001b[0;34m:\u001b[0m\u001b[0;34m\u001b[0m\u001b[0;34m\u001b[0m\u001b[0m\n\u001b[1;32m    842\u001b[0m                     \u001b[0;32mwith\u001b[0m \u001b[0mnp\u001b[0m\u001b[0;34m.\u001b[0m\u001b[0merrstate\u001b[0m\u001b[0;34m(\u001b[0m\u001b[0mall\u001b[0m\u001b[0;34m=\u001b[0m\u001b[0;34m\"ignore\"\u001b[0m\u001b[0;34m)\u001b[0m\u001b[0;34m:\u001b[0m\u001b[0;34m\u001b[0m\u001b[0;34m\u001b[0m\u001b[0m\n\u001b[0;32m--> 843\u001b[0;31m                         \u001b[0;32mreturn\u001b[0m \u001b[0mfunc\u001b[0m\u001b[0;34m(\u001b[0m\u001b[0mg\u001b[0m\u001b[0;34m,\u001b[0m \u001b[0;34m*\u001b[0m\u001b[0margs\u001b[0m\u001b[0;34m,\u001b[0m \u001b[0;34m**\u001b[0m\u001b[0mkwargs\u001b[0m\u001b[0;34m)\u001b[0m\u001b[0;34m\u001b[0m\u001b[0;34m\u001b[0m\u001b[0m\n\u001b[0m\u001b[1;32m    844\u001b[0m \u001b[0;34m\u001b[0m\u001b[0m\n\u001b[1;32m    845\u001b[0m             \u001b[0;32melif\u001b[0m \u001b[0mhasattr\u001b[0m\u001b[0;34m(\u001b[0m\u001b[0mnanops\u001b[0m\u001b[0;34m,\u001b[0m \u001b[0;34m\"nan\"\u001b[0m \u001b[0;34m+\u001b[0m \u001b[0mfunc\u001b[0m\u001b[0;34m)\u001b[0m\u001b[0;34m:\u001b[0m\u001b[0;34m\u001b[0m\u001b[0;34m\u001b[0m\u001b[0m\n",
      "\u001b[0;31mTypeError\u001b[0m: <lambda>() got an unexpected keyword argument 'axis'"
     ]
    }
   ],
   "source": [
    "func = lambda x:x\n",
    "df.groupby(\"class\").apply(func)"
   ]
  },
  {
   "cell_type": "code",
   "execution_count": 79,
   "metadata": {},
   "outputs": [
    {
     "data": {
      "text/plain": [
       "falcon      True\n",
       "parrot     False\n",
       "lion        True\n",
       "monkey     False\n",
       "leopard     True\n",
       "dtype: bool"
      ]
     },
     "execution_count": 79,
     "metadata": {},
     "output_type": "execute_result"
    }
   ],
   "source": [
    "def myFunc(x):\n",
    "    if(x[\"max_speed\"]>50):\n",
    "        return x\n",
    "    else:\n",
    "        return 0\n",
    "\n",
    "df.apply(lambda x:x[\"max_speed\"]>50, axis=1)\n",
    "\n",
    "# df.apply(myFunc, axis=1)\n"
   ]
  },
  {
   "cell_type": "code",
   "execution_count": 76,
   "metadata": {},
   "outputs": [
    {
     "data": {
      "text/html": [
       "<div>\n",
       "<style scoped>\n",
       "    .dataframe tbody tr th:only-of-type {\n",
       "        vertical-align: middle;\n",
       "    }\n",
       "\n",
       "    .dataframe tbody tr th {\n",
       "        vertical-align: top;\n",
       "    }\n",
       "\n",
       "    .dataframe thead th {\n",
       "        text-align: right;\n",
       "    }\n",
       "</style>\n",
       "<table border=\"1\" class=\"dataframe\">\n",
       "  <thead>\n",
       "    <tr style=\"text-align: right;\">\n",
       "      <th></th>\n",
       "      <th>class</th>\n",
       "      <th>order</th>\n",
       "      <th>max_speed</th>\n",
       "    </tr>\n",
       "  </thead>\n",
       "  <tbody>\n",
       "    <tr>\n",
       "      <th>falcon</th>\n",
       "      <td>bird</td>\n",
       "      <td>Falconiformes</td>\n",
       "      <td>389.0</td>\n",
       "    </tr>\n",
       "    <tr>\n",
       "      <th>parrot</th>\n",
       "      <td>bird</td>\n",
       "      <td>Psittaciformes</td>\n",
       "      <td>24.0</td>\n",
       "    </tr>\n",
       "    <tr>\n",
       "      <th>lion</th>\n",
       "      <td>mammal</td>\n",
       "      <td>Carnivora</td>\n",
       "      <td>80.2</td>\n",
       "    </tr>\n",
       "    <tr>\n",
       "      <th>monkey</th>\n",
       "      <td>mammal</td>\n",
       "      <td>Primates</td>\n",
       "      <td>NaN</td>\n",
       "    </tr>\n",
       "    <tr>\n",
       "      <th>leopard</th>\n",
       "      <td>mammal</td>\n",
       "      <td>Carnivora</td>\n",
       "      <td>58.0</td>\n",
       "    </tr>\n",
       "  </tbody>\n",
       "</table>\n",
       "</div>"
      ],
      "text/plain": [
       "          class           order  max_speed\n",
       "falcon     bird   Falconiformes      389.0\n",
       "parrot     bird  Psittaciformes       24.0\n",
       "lion     mammal       Carnivora       80.2\n",
       "monkey   mammal        Primates        NaN\n",
       "leopard  mammal       Carnivora       58.0"
      ]
     },
     "execution_count": 76,
     "metadata": {},
     "output_type": "execute_result"
    }
   ],
   "source": [
    "df"
   ]
  },
  {
   "cell_type": "code",
   "execution_count": 87,
   "metadata": {},
   "outputs": [
    {
     "data": {
      "text/plain": [
       "class   order         \n",
       "bird    Falconiformes     1\n",
       "        Psittaciformes    1\n",
       "mammal  Carnivora         2\n",
       "        Primates          1\n",
       "Name: order, dtype: int64"
      ]
     },
     "execution_count": 87,
     "metadata": {},
     "output_type": "execute_result"
    }
   ],
   "source": [
    "df.groupby(\"class\")[\"order\"].value_counts()"
   ]
  },
  {
   "cell_type": "code",
   "execution_count": null,
   "metadata": {},
   "outputs": [],
   "source": []
  },
  {
   "cell_type": "code",
   "execution_count": 60,
   "metadata": {},
   "outputs": [],
   "source": [
    "def countOfLateDeliveries(x):\n",
    "    if(x and x==\"Late Delivery\"):\n",
    "        return x\n",
    "\n",
    "#     return len(x)"
   ]
  },
  {
   "cell_type": "code",
   "execution_count": 133,
   "metadata": {},
   "outputs": [
    {
     "data": {
      "text/plain": [
       "delivery_year_week                        \n",
       "201710              Late Delivery              31\n",
       "                    Not User Friendly          25\n",
       "                    Bad Customer Service       24\n",
       "                    Great Customer Service     24\n",
       "                    Bad Quality                23\n",
       "                    Wrong Product              23\n",
       "                    Great product              22\n",
       "                    Product was broken         19\n",
       "201711              Late Delivery              37\n",
       "                    Bad Quality                36\n",
       "                    Wrong Product              34\n",
       "                    Bad Customer Service       32\n",
       "                    Great product              31\n",
       "                    Great Customer Service     30\n",
       "                    Product was broken         30\n",
       "                    Not User Friendly          28\n",
       "201712              Bad Customer Service       43\n",
       "                    Late Delivery              42\n",
       "                    Wrong Product              33\n",
       "                    Great product              33\n",
       "                    Not User Friendly          31\n",
       "                    Product was broken         30\n",
       "                    Bad Quality                29\n",
       "                    Great Customer Service     29\n",
       "201713              Late Delivery              44\n",
       "                    Great product              35\n",
       "                    Great Customer Service     32\n",
       "                    Bad Customer Service       29\n",
       "                    Product was broken         29\n",
       "                    Not User Friendly          26\n",
       "                    Wrong Product              25\n",
       "                    Bad Quality                23\n",
       "201714              Bad Quality                38\n",
       "                    Great Customer Service     37\n",
       "                    Great product              35\n",
       "                    Late Delivery              33\n",
       "                    Wrong Product              32\n",
       "                    Product was broken         29\n",
       "                    Not User Friendly          24\n",
       "                    Bad Customer Service       24\n",
       "201715              Late Delivery              40\n",
       "                    Product was broken         35\n",
       "                    Bad Customer Service       29\n",
       "                    Great Customer Service     29\n",
       "                    Not User Friendly          24\n",
       "                    Wrong Product              24\n",
       "                    Great product              24\n",
       "                    Bad Quality                23\n",
       "201716              Late Delivery              34\n",
       "                    Great Customer Service     28\n",
       "                    Wrong Product              26\n",
       "                    Not User Friendly          24\n",
       "                    Product was broken         23\n",
       "                    Bad Quality                22\n",
       "                    Great product              19\n",
       "                    Bad Customer Service       18\n",
       "201717              Late Delivery              39\n",
       "                    Great product              27\n",
       "                    Great Customer Service     25\n",
       "                    Product was broken         23\n",
       "                    Wrong Product              20\n",
       "                    Bad Quality                19\n",
       "                    Bad Customer Service       17\n",
       "                    Not User Friendly          14\n",
       "201718              Great product              31\n",
       "                    Product was broken         27\n",
       "                    Wrong Product              26\n",
       "                    Late Delivery              26\n",
       "                    Not User Friendly          23\n",
       "                    Bad Quality                22\n",
       "                    Bad Customer Service       21\n",
       "                    Great Customer Service     20\n",
       "201719              Product was broken         45\n",
       "                    Late Delivery              44\n",
       "                    Bad Customer Service       35\n",
       "                    Great product              34\n",
       "                    Not User Friendly          26\n",
       "                    Great Customer Service     25\n",
       "                    Wrong Product              23\n",
       "                    Bad Quality                22\n",
       "201720              Late Delivery              41\n",
       "                    Great Customer Service     39\n",
       "                    Product was broken         37\n",
       "                    Not User Friendly          35\n",
       "                    Bad Customer Service       34\n",
       "                    Great product              31\n",
       "                    Wrong Product              28\n",
       "                    Bad Quality                27\n",
       "201721              Bad Customer Service       47\n",
       "                    Late Delivery              45\n",
       "                    Bad Quality                41\n",
       "                    Wrong Product              38\n",
       "                    Great product              35\n",
       "                    Great Customer Service     35\n",
       "                    Not User Friendly          34\n",
       "                    Product was broken         33\n",
       "201722              Late Delivery              63\n",
       "                    Great Customer Service     53\n",
       "                    Wrong Product              44\n",
       "                    Bad Customer Service       40\n",
       "                    Great product              36\n",
       "                    Bad Quality                36\n",
       "                    Product was broken         35\n",
       "                    Not User Friendly          32\n",
       "201723              Late Delivery              54\n",
       "                    Product was broken         49\n",
       "                    Great product              48\n",
       "                    Bad Quality                42\n",
       "                    Wrong Product              40\n",
       "                    Great Customer Service     38\n",
       "                    Not User Friendly          27\n",
       "                    Bad Customer Service       24\n",
       "201724              Late Delivery              50\n",
       "                    Great Customer Service     44\n",
       "                    Bad Quality                41\n",
       "                    Wrong Product              37\n",
       "                    Great product              37\n",
       "                    Not User Friendly          37\n",
       "                    Bad Customer Service       35\n",
       "                    Product was broken         32\n",
       "201725              Great product              48\n",
       "                    Wrong Product              47\n",
       "                    Late Delivery              46\n",
       "                    Bad Customer Service       41\n",
       "                    Great Customer Service     41\n",
       "                    Bad Quality                37\n",
       "                    Product was broken         35\n",
       "                    Not User Friendly          30\n",
       "201726              Bad Quality                50\n",
       "                    Late Delivery              46\n",
       "                    Great Customer Service     40\n",
       "                    Bad Customer Service       39\n",
       "                    Product was broken         37\n",
       "                    Wrong Product              33\n",
       "                    Not User Friendly          32\n",
       "                    Great product              31\n",
       "201727              Late Delivery              57\n",
       "                    Bad Customer Service       47\n",
       "                    Bad Quality                47\n",
       "                    Product was broken         45\n",
       "                    Great Customer Service     41\n",
       "                    Great product              40\n",
       "                    Not User Friendly          39\n",
       "                    Wrong Product              37\n",
       "201728              Late Delivery              51\n",
       "                    Great Customer Service     48\n",
       "                    Bad Quality                43\n",
       "                    Bad Customer Service       39\n",
       "                    Product was broken         38\n",
       "                    Wrong Product              34\n",
       "                    Not User Friendly          33\n",
       "                    Great product              32\n",
       "201729              Late Delivery              49\n",
       "                    Great Customer Service     44\n",
       "                    Product was broken         39\n",
       "                    Bad Quality                38\n",
       "                    Wrong Product              37\n",
       "                    Bad Customer Service       37\n",
       "                    Great product              36\n",
       "                    Not User Friendly          30\n",
       "201730              Product was broken         49\n",
       "                    Bad Customer Service       41\n",
       "                    Great product              40\n",
       "                    Late Delivery              38\n",
       "                    Not User Friendly          36\n",
       "                    Great Customer Service     34\n",
       "                    Wrong Product              32\n",
       "                    Bad Quality                25\n",
       "201731              Late Delivery              57\n",
       "                    Bad Customer Service       48\n",
       "                    Great product              47\n",
       "                    Great Customer Service     47\n",
       "                    Wrong Product              46\n",
       "                    Bad Quality                42\n",
       "                    Not User Friendly          39\n",
       "                    Product was broken         39\n",
       "201732              Great Customer Service     62\n",
       "                    Not User Friendly          56\n",
       "                    Late Delivery              56\n",
       "                    Product was broken         47\n",
       "                    Wrong Product              42\n",
       "                    Great product              41\n",
       "                    Bad Quality                40\n",
       "                    Bad Customer Service       33\n",
       "201733              Late Delivery              60\n",
       "                    Great product              55\n",
       "                    Great Customer Service     52\n",
       "                    Not User Friendly          48\n",
       "                    Wrong Product              45\n",
       "                    Bad Customer Service       45\n",
       "                    Bad Quality                45\n",
       "                    Product was broken         45\n",
       "201734              Late Delivery              71\n",
       "                    Great Customer Service     67\n",
       "                    Great product              56\n",
       "                    Wrong Product              46\n",
       "                    Product was broken         44\n",
       "                    Bad Customer Service       37\n",
       "                    Bad Quality                36\n",
       "                    Not User Friendly          33\n",
       "201735              Late Delivery              61\n",
       "                    Great product              53\n",
       "                    Bad Quality                53\n",
       "                    Bad Customer Service       50\n",
       "                    Great Customer Service     48\n",
       "                    Not User Friendly          47\n",
       "                    Wrong Product              38\n",
       "                    Product was broken         38\n",
       "201736              Late Delivery              59\n",
       "                    Bad Quality                49\n",
       "                    Not User Friendly          46\n",
       "                    Product was broken         44\n",
       "                    Great Customer Service     41\n",
       "                    Great product              37\n",
       "                    Bad Customer Service       31\n",
       "                    Wrong Product              25\n",
       "201737              Great Customer Service     64\n",
       "                    Bad Customer Service       61\n",
       "                    Late Delivery              55\n",
       "                    Great product              50\n",
       "                    Not User Friendly          46\n",
       "                    Wrong Product              45\n",
       "                    Bad Quality                40\n",
       "                    Product was broken         37\n",
       "201738              Late Delivery              80\n",
       "                    Product was broken         69\n",
       "                    Great Customer Service     64\n",
       "                    Wrong Product              53\n",
       "                    Bad Customer Service       53\n",
       "                    Not User Friendly          52\n",
       "                    Great product              47\n",
       "                    Bad Quality                46\n",
       "201739              Late Delivery              69\n",
       "                    Wrong Product              61\n",
       "                    Great Customer Service     58\n",
       "                    Great product              55\n",
       "                    Bad Quality                54\n",
       "                    Product was broken         50\n",
       "                    Not User Friendly          48\n",
       "                    Bad Customer Service       47\n",
       "201740              Late Delivery              69\n",
       "                    Not User Friendly          53\n",
       "                    Bad Quality                49\n",
       "                    Wrong Product              47\n",
       "                    Product was broken         44\n",
       "                    Bad Customer Service       43\n",
       "                    Great Customer Service     43\n",
       "                    Great product              41\n",
       "201741              Late Delivery              41\n",
       "                    Great Customer Service     39\n",
       "                    Wrong Product              38\n",
       "                    Bad Quality                35\n",
       "                    Not User Friendly          35\n",
       "                    Great product              32\n",
       "                    Bad Customer Service       26\n",
       "                    Product was broken         25\n",
       "201742              Late Delivery              74\n",
       "                    Great product              55\n",
       "                    Product was broken         48\n",
       "                    Great Customer Service     44\n",
       "                    Bad Quality                42\n",
       "                    Wrong Product              37\n",
       "                    Bad Customer Service       30\n",
       "                    Not User Friendly          29\n",
       "201743              Late Delivery              73\n",
       "                    Wrong Product              62\n",
       "                    Great product              57\n",
       "                    Great Customer Service     53\n",
       "                    Bad Quality                52\n",
       "                    Not User Friendly          51\n",
       "                    Product was broken         51\n",
       "                    Bad Customer Service       47\n",
       "201744              Late Delivery              83\n",
       "                    Bad Quality                60\n",
       "                    Great Customer Service     58\n",
       "                    Product was broken         56\n",
       "                    Not User Friendly          55\n",
       "                    Bad Customer Service       52\n",
       "                    Great product              46\n",
       "                    Wrong Product              43\n",
       "201745              Great Customer Service     65\n",
       "                    Bad Customer Service       64\n",
       "                    Great product              64\n",
       "                    Not User Friendly          64\n",
       "                    Late Delivery              62\n",
       "                    Product was broken         61\n",
       "                    Wrong Product              53\n",
       "                    Bad Quality                51\n",
       "201746              Late Delivery              69\n",
       "                    Bad Customer Service       48\n",
       "                    Bad Quality                46\n",
       "                    Wrong Product              41\n",
       "                    Great product              40\n",
       "                    Product was broken         39\n",
       "                    Great Customer Service     37\n",
       "                    Not User Friendly          35\n",
       "201747              Wrong Product              56\n",
       "                    Great Customer Service     51\n",
       "                    Product was broken         50\n",
       "                    Bad Quality                49\n",
       "                    Bad Customer Service       47\n",
       "                    Not User Friendly          47\n",
       "                    Late Delivery              47\n",
       "                    Great product              37\n",
       "201748              Late Delivery              69\n",
       "                    Great product              67\n",
       "                    Bad Quality                63\n",
       "                    Great Customer Service     61\n",
       "                    Wrong Product              59\n",
       "                    Product was broken         57\n",
       "                    Bad Customer Service       53\n",
       "                    Not User Friendly          50\n",
       "201749              Late Delivery             103\n",
       "                    Great product              96\n",
       "                    Wrong Product              79\n",
       "                    Bad Customer Service       79\n",
       "                    Bad Quality                73\n",
       "                    Great Customer Service     73\n",
       "                    Not User Friendly          69\n",
       "                    Product was broken         64\n",
       "20175               Bad Quality                 1\n",
       "                    Bad Customer Service        1\n",
       "201750              Late Delivery             132\n",
       "                    Bad Quality                95\n",
       "                    Great Customer Service     95\n",
       "                    Wrong Product              92\n",
       "                    Not User Friendly          91\n",
       "                    Great product              89\n",
       "                    Product was broken         84\n",
       "                    Bad Customer Service       82\n",
       "201751              Late Delivery             132\n",
       "                    Bad Quality                98\n",
       "                    Bad Customer Service       96\n",
       "                    Product was broken         91\n",
       "                    Great Customer Service     90\n",
       "                    Not User Friendly          83\n",
       "                    Wrong Product              81\n",
       "                    Great product              78\n",
       "201752              Late Delivery              87\n",
       "                    Product was broken         69\n",
       "                    Bad Quality                68\n",
       "                    Wrong Product              66\n",
       "                    Great product              64\n",
       "                    Not User Friendly          64\n",
       "                    Great Customer Service     58\n",
       "                    Bad Customer Service       56\n",
       "20176               Bad Customer Service        4\n",
       "                    Bad Quality                 2\n",
       "                    Product was broken          2\n",
       "                    Late Delivery               1\n",
       "                    Great product               1\n",
       "20177               Product was broken         10\n",
       "                    Late Delivery               5\n",
       "                    Great product               4\n",
       "                    Bad Quality                 3\n",
       "                    Not User Friendly           3\n",
       "                    Great Customer Service      3\n",
       "                    Wrong Product               2\n",
       "                    Bad Customer Service        1\n",
       "20178               Bad Customer Service       16\n",
       "                    Wrong Product              12\n",
       "                    Product was broken         11\n",
       "                    Not User Friendly          10\n",
       "                    Late Delivery              10\n",
       "                    Bad Quality                 9\n",
       "                    Great product               5\n",
       "                    Great Customer Service      3\n",
       "20179               Wrong Product              25\n",
       "                    Late Delivery              23\n",
       "                    Bad Customer Service       17\n",
       "                    Product was broken         16\n",
       "                    Not User Friendly          15\n",
       "                    Great product              15\n",
       "                    Bad Quality                14\n",
       "                    Great Customer Service     14\n",
       "20181               Late Delivery              77\n",
       "                    Great product              74\n",
       "                    Bad Quality                74\n",
       "                    Product was broken         74\n",
       "                    Wrong Product              67\n",
       "                    Great Customer Service     66\n",
       "                    Bad Customer Service       57\n",
       "                    Not User Friendly          55\n",
       "201810              Late Delivery             159\n",
       "                    Bad Quality               116\n",
       "                    Product was broken         98\n",
       "                    Bad Customer Service       95\n",
       "                    Great product              93\n",
       "                    Wrong Product              84\n",
       "                    Great Customer Service     84\n",
       "                    Not User Friendly          80\n",
       "201811              Late Delivery             129\n",
       "                    Great product             115\n",
       "                    Great Customer Service    115\n",
       "                    Wrong Product             107\n",
       "                    Not User Friendly         106\n",
       "                    Product was broken        106\n",
       "                    Bad Quality               104\n",
       "                    Bad Customer Service      101\n",
       "201812              Late Delivery             117\n",
       "                    Great product             108\n",
       "                    Great Customer Service    107\n",
       "                    Bad Customer Service      103\n",
       "                    Wrong Product              98\n",
       "                    Bad Quality                90\n",
       "                    Not User Friendly          90\n",
       "                    Product was broken         85\n",
       "201813              Great Customer Service     95\n",
       "                    Late Delivery              89\n",
       "                    Not User Friendly          88\n",
       "                    Bad Quality                85\n",
       "                    Bad Customer Service       82\n",
       "                    Great product              81\n",
       "                    Wrong Product              74\n",
       "                    Product was broken         66\n",
       "201814              Late Delivery             101\n",
       "                    Product was broken         84\n",
       "                    Great product              82\n",
       "                    Bad Quality                82\n",
       "                    Not User Friendly          82\n",
       "                    Wrong Product              77\n",
       "                    Bad Customer Service       76\n",
       "                    Great Customer Service     74\n",
       "20182               Late Delivery              84\n",
       "                    Wrong Product              83\n",
       "                    Bad Quality                68\n",
       "                    Great Customer Service     65\n",
       "                    Bad Customer Service       61\n",
       "                    Not User Friendly          58\n",
       "                    Product was broken         58\n",
       "                    Great product              47\n",
       "20183               Bad Customer Service       66\n",
       "                    Bad Quality                64\n",
       "                    Late Delivery              64\n",
       "                    Great product              59\n",
       "                    Wrong Product              57\n",
       "                    Great Customer Service     57\n",
       "                    Product was broken         52\n",
       "                    Not User Friendly          50\n",
       "20184               Bad Quality                73\n",
       "                    Late Delivery              73\n",
       "                    Great Customer Service     60\n",
       "                    Bad Customer Service       59\n",
       "                    Not User Friendly          51\n",
       "                    Great product              50\n",
       "                    Product was broken         50\n",
       "                    Wrong Product              49\n",
       "20185               Late Delivery             107\n",
       "                    Not User Friendly          92\n",
       "                    Wrong Product              89\n",
       "                    Bad Customer Service       88\n",
       "                    Great Customer Service     76\n",
       "                    Product was broken         76\n",
       "                    Great product              75\n",
       "                    Bad Quality                72\n",
       "20186               Late Delivery             121\n",
       "                    Great product              91\n",
       "                    Great Customer Service     90\n",
       "                    Not User Friendly          87\n",
       "                    Bad Quality                83\n",
       "                    Bad Customer Service       79\n",
       "                    Product was broken         79\n",
       "                    Wrong Product              77\n",
       "20187               Late Delivery              98\n",
       "                    Great Customer Service     86\n",
       "                    Wrong Product              82\n",
       "                    Great product              78\n",
       "                    Not User Friendly          78\n",
       "                    Product was broken         73\n",
       "                    Bad Customer Service       71\n",
       "                    Bad Quality                65\n",
       "20188               Late Delivery             105\n",
       "                    Product was broken         89\n",
       "                    Great product              78\n",
       "                    Wrong Product              78\n",
       "                    Great Customer Service     75\n",
       "                    Bad Customer Service       68\n",
       "                    Not User Friendly          67\n",
       "                    Bad Quality                60\n",
       "20189               Late Delivery             103\n",
       "                    Great Customer Service     94\n",
       "                    Wrong Product              86\n",
       "                    Not User Friendly          78\n",
       "                    Bad Customer Service       77\n",
       "                    Great product              67\n",
       "                    Product was broken         64\n",
       "                    Bad Quality                61\n",
       "Name: review_title, dtype: int64"
      ]
     },
     "execution_count": 133,
     "metadata": {},
     "output_type": "execute_result"
    }
   ],
   "source": [
    "order_reviews.groupby([\"delivery_year_week\"])['review_title'].apply(lambda x:x.value_counts())"
   ]
  },
  {
   "cell_type": "code",
   "execution_count": 139,
   "metadata": {},
   "outputs": [],
   "source": [
    "n = order_reviews[order_reviews[\"review_title\"] == \"Late Delivery\"].groupby(\"delivery_year_week\")[\"review_title\"].count()\n",
    "# order_reviews.groupby([\"delivery_year_week\"]).apply(lambda x:x)\n",
    "\n",
    "# order_reviews.groupby([\"delivery_year_week\"]).count()"
   ]
  },
  {
   "cell_type": "code",
   "execution_count": null,
   "metadata": {},
   "outputs": [],
   "source": []
  },
  {
   "cell_type": "code",
   "execution_count": 17,
   "metadata": {},
   "outputs": [
    {
     "data": {
      "text/plain": [
       "delivery_year_week\n",
       "201710             Late Delivery\n",
       "201711             Late Delivery\n",
       "201712      Bad Customer Service\n",
       "201713             Late Delivery\n",
       "201714               Bad Quality\n",
       "201715             Late Delivery\n",
       "201716             Late Delivery\n",
       "201717             Late Delivery\n",
       "201718             Great product\n",
       "201719        Product was broken\n",
       "201720             Late Delivery\n",
       "201721      Bad Customer Service\n",
       "201722             Late Delivery\n",
       "201723             Late Delivery\n",
       "201724             Late Delivery\n",
       "201725             Great product\n",
       "201726               Bad Quality\n",
       "201727             Late Delivery\n",
       "201728             Late Delivery\n",
       "201729             Late Delivery\n",
       "201730        Product was broken\n",
       "201731             Late Delivery\n",
       "201732    Great Customer Service\n",
       "201733             Late Delivery\n",
       "201734             Late Delivery\n",
       "201735             Late Delivery\n",
       "201736             Late Delivery\n",
       "201737    Great Customer Service\n",
       "201738             Late Delivery\n",
       "201739             Late Delivery\n",
       "201740             Late Delivery\n",
       "201741             Late Delivery\n",
       "201742             Late Delivery\n",
       "201743             Late Delivery\n",
       "201744             Late Delivery\n",
       "201745    Great Customer Service\n",
       "201746             Late Delivery\n",
       "201747             Wrong Product\n",
       "201748             Late Delivery\n",
       "201749             Late Delivery\n",
       "20175                Bad Quality\n",
       "201750             Late Delivery\n",
       "201751             Late Delivery\n",
       "201752             Late Delivery\n",
       "20176       Bad Customer Service\n",
       "20177         Product was broken\n",
       "20178       Bad Customer Service\n",
       "20179              Wrong Product\n",
       "20181              Late Delivery\n",
       "201810             Late Delivery\n",
       "201811             Late Delivery\n",
       "201812             Late Delivery\n",
       "201813    Great Customer Service\n",
       "201814             Late Delivery\n",
       "20182              Late Delivery\n",
       "20183       Bad Customer Service\n",
       "20184                Bad Quality\n",
       "20185              Late Delivery\n",
       "20186              Late Delivery\n",
       "20187              Late Delivery\n",
       "20188              Late Delivery\n",
       "20189              Late Delivery\n",
       "Name: review_title, dtype: object"
      ]
     },
     "execution_count": 17,
     "metadata": {},
     "output_type": "execute_result"
    }
   ],
   "source": [
    "# Most common review on a weekly basis\n",
    "order_reviews.groupby(['delivery_year_week'])['review_title'].apply(lambda x:x.value_counts().index[0])"
   ]
  },
  {
   "cell_type": "code",
   "execution_count": null,
   "metadata": {},
   "outputs": [],
   "source": []
  },
  {
   "cell_type": "code",
   "execution_count": 18,
   "metadata": {},
   "outputs": [],
   "source": [
    "# Using this function, you can adjust the number of rows you want to be displayed while printing the dataframe\n",
    "pd.set_option('display.max_rows', 10)"
   ]
  },
  {
   "cell_type": "markdown",
   "metadata": {},
   "source": [
    "### Testing proportion of Late Delivery reviews"
   ]
  },
  {
   "cell_type": "code",
   "execution_count": 140,
   "metadata": {},
   "outputs": [
    {
     "name": "stdout",
     "output_type": "stream",
     "text": [
      "delivery_year_week\n",
      "201710    31\n",
      "201711    37\n",
      "201712    42\n",
      "201713    44\n",
      "201714    33\n",
      "Name: review_title, dtype: int64\n",
      "delivery_year_week\n",
      "201710    31\n",
      "201711    37\n",
      "201712    42\n",
      "201713    44\n",
      "201714    33\n",
      "Name: review_title, dtype: int64\n"
     ]
    }
   ],
   "source": [
    "# Count of Late Delivery orders per week\n",
    "num_late_delivery_weekly = order_reviews.groupby(order_reviews.delivery_year_week).review_title.apply(lambda x: (x=='Late Delivery').sum())\n",
    "\n",
    "print(num_late_delivery_weekly.head())\n",
    "print(n.head())"
   ]
  },
  {
   "cell_type": "code",
   "execution_count": 141,
   "metadata": {},
   "outputs": [],
   "source": [
    "# Count of orders per week\n",
    "num_orders_weekly = order_reviews.groupby(order_reviews.delivery_year_week).order_id.count()"
   ]
  },
  {
   "cell_type": "code",
   "execution_count": 143,
   "metadata": {},
   "outputs": [
    {
     "name": "stdout",
     "output_type": "stream",
     "text": [
      "delivery_year_week\n",
      "201710    0.065678\n",
      "201711    0.059105\n",
      "201712    0.060258\n",
      "201713    0.071778\n",
      "201714    0.053834\n",
      "dtype: float64\n",
      "delivery_year_week\n",
      "201710    0.065678\n",
      "201711    0.059105\n",
      "201712    0.060258\n",
      "201713    0.071778\n",
      "201714    0.053834\n",
      "dtype: float64\n"
     ]
    }
   ],
   "source": [
    "proportion_late_deliveries = num_late_delivery_weekly/ num_orders_weekly\n",
    "\n",
    "proportion_late_deliveries2 = n/ num_orders_weekly\n",
    "\n",
    "print(proportion_late_deliveries.head())\n",
    "\n",
    "print(proportion_late_deliveries2.head())"
   ]
  },
  {
   "cell_type": "markdown",
   "metadata": {},
   "source": [
    "### 2) Conduct a hypothesis test to compare the organization late delivery % with the industry average which is 6%"
   ]
  },
  {
   "cell_type": "code",
   "execution_count": 22,
   "metadata": {},
   "outputs": [
    {
     "data": {
      "image/png": "[encoded data removed]",
      "text/plain": [
       "<IPython.core.display.Image object>"
      ]
     },
     "execution_count": 22,
     "metadata": {},
     "output_type": "execute_result"
    }
   ],
   "source": [
    "Image('Hypothesis_Testing_proportion_.png')"
   ]
  },
  {
   "cell_type": "code",
   "execution_count": 145,
   "metadata": {},
   "outputs": [],
   "source": [
    "successes = np.sum(num_late_delivery_weekly)\n",
    "\n",
    "successes2 = np.sum(n)\n",
    "\n",
    "sample_size = np.sum(num_orders_weekly)"
   ]
  },
  {
   "cell_type": "code",
   "execution_count": 149,
   "metadata": {},
   "outputs": [
    {
     "name": "stdout",
     "output_type": "stream",
     "text": [
      "5.179425725521796e-08 5.179425725521796e-08\n"
     ]
    }
   ],
   "source": [
    "z_statistic, p_value = proportions_ztest(successes, sample_size, value = 0.06, alternative = 'larger')\n",
    "\n",
    "\n",
    "z_statistic2, p_value2 = proportions_ztest(successes2, sample_size, value = 0.06, alternative = 'larger')\n",
    "\n",
    "\n",
    "print(p_value,p_value2)"
   ]
  },
  {
   "cell_type": "markdown",
   "metadata": {},
   "source": [
    "#### **Note:** <br>\n",
    "\n",
    "**Ha: p < 0.06 (1 tailed test)**<br>\n",
    "alternative = 'smaller'\n",
    "\n",
    "**Ha: p > 0.06 (1 tailed test)**<br>\n",
    "alternative = 'larger'\n",
    "\n",
    "**Ha: p != 0.06 (2 tailed test)**<br>\n",
    "alternative = 'two-sided'"
   ]
  },
  {
   "cell_type": "code",
   "execution_count": 25,
   "metadata": {},
   "outputs": [
    {
     "data": {
      "text/plain": [
       "5.179425725521796e-08"
      ]
     },
     "execution_count": 25,
     "metadata": {},
     "output_type": "execute_result"
    }
   ],
   "source": [
    "p_value"
   ]
  },
  {
   "cell_type": "code",
   "execution_count": 150,
   "metadata": {},
   "outputs": [
    {
     "name": "stdout",
     "output_type": "stream",
     "text": [
      "P value =  5.179425725521796e-08\n",
      "Reject H0\n",
      "The proportion of Late Delivery complaints is > 0.06\n"
     ]
    }
   ],
   "source": [
    "α = 0.05\n",
    "\n",
    "# Checking p value against α\n",
    "if p_value < α:\n",
    "    print('P value = ', p_value)\n",
    "    print('Reject H0')\n",
    "    print('The proportion of Late Delivery complaints is > 0.06')\n",
    "else:\n",
    "    print('P value = ', p_value)\n",
    "    print('Cannot Reject H0')\n",
    "    print('The proportion of Late Delivery complaints is <= 0.06')"
   ]
  },
  {
   "cell_type": "markdown",
   "metadata": {},
   "source": [
    "### 3) A/B Testing\n",
    "\n",
    "#### Compare late delivery complaint % before and after the algorithm was rolled out."
   ]
  },
  {
   "cell_type": "code",
   "execution_count": 153,
   "metadata": {},
   "outputs": [
    {
     "name": "stdout",
     "output_type": "stream",
     "text": [
      "                           order_id                       customer_id  \\\n",
      "0  865aee0fd5873d8a2974df861e2526ef  622c8e6dd2f3d6f07a232257ee86e6b9   \n",
      "1  39e0115911bf404857e14baa7f097feb  816642e9995c2461f2172469e78c7370   \n",
      "2  38930f76efb00b138f4d632e4d557341  0f9043c635f86f7eb1e8fc07704df303   \n",
      "3  7b875e17a8b649ecb72124320bdfd20f  399c6c81654067bed2b65f0265f1282b   \n",
      "4  933fc5257a9b5a80bd558f2968d7b6f3  7128a6c72181215d6e1358918a66c845   \n",
      "\n",
      "  order_status order_purchase_timestamp    order_approved_at  \\\n",
      "0    delivered      2018-01-07 20:49:50  2018-01-07 21:31:45   \n",
      "1    delivered      2018-01-20 07:48:16  2018-01-20 09:15:46   \n",
      "2    delivered      2018-01-28 13:47:42  2018-01-28 14:00:18   \n",
      "3    delivered      2018-01-28 22:45:22  2018-01-28 22:53:23   \n",
      "4    delivered      2018-01-29 11:03:03  2018-01-30 04:31:05   \n",
      "\n",
      "  order_delivered_carrier_date order_delivered_customer_date  \\\n",
      "0          2018-01-24 18:15:05           2018-04-17 22:42:11   \n",
      "1          2018-01-23 18:27:00           2018-04-19 15:28:27   \n",
      "2          2018-02-02 01:42:30           2018-04-20 22:43:45   \n",
      "3          2018-02-02 01:42:28           2018-04-29 10:10:28   \n",
      "4          2018-02-02 01:25:40           2018-04-29 04:55:04   \n",
      "\n",
      "  order_estimated_delivery_date      group  \n",
      "0           2018-04-17 00:00:00  Treatment  \n",
      "1           2018-04-25 00:00:00    Control  \n",
      "2           2018-04-27 00:00:00    Control  \n",
      "3           2018-04-30 00:00:00  Treatment  \n",
      "4           2018-04-24 00:00:00    Control  \n"
     ]
    }
   ],
   "source": [
    "ab_testing_orders = pd.read_csv('ab_testing_orders.csv')\n",
    "ab_testing_reviews = pd.read_csv('ab_testing_reviews.csv')\n",
    "\n",
    "\n",
    "print(ab_testing_orders.head())\n",
    "# print(ab_testing_reviews.head())"
   ]
  },
  {
   "cell_type": "code",
   "execution_count": 154,
   "metadata": {},
   "outputs": [],
   "source": [
    "# Merging the orders dataset with the reviews dataset\n",
    "ab_testing_orders_reviews = pd.merge(ab_testing_orders, ab_testing_reviews, how='left', left_on='order_id', right_on= 'order_id')"
   ]
  },
  {
   "cell_type": "code",
   "execution_count": 155,
   "metadata": {},
   "outputs": [
    {
     "data": {
      "text/plain": [
       "Treatment    18235\n",
       "Control      15000\n",
       "Name: group, dtype: int64"
      ]
     },
     "execution_count": 155,
     "metadata": {},
     "output_type": "execute_result"
    }
   ],
   "source": [
    "# Number of customers in the Treatment group and Control group\n",
    "ab_testing_orders_reviews.group.value_counts()"
   ]
  },
  {
   "cell_type": "code",
   "execution_count": 156,
   "metadata": {},
   "outputs": [],
   "source": [
    "# Creating a new column, Delivery_Complaint\n",
    "# Delivery_Complaint = True if review_title = Late Delivery, else False\n",
    "ab_testing_orders_reviews['Delivery_Complaint'] = ab_testing_orders_reviews['review_title'].apply(lambda x: x == 'Late Delivery')"
   ]
  },
  {
   "cell_type": "code",
   "execution_count": 157,
   "metadata": {},
   "outputs": [
    {
     "data": {
      "text/plain": [
       "False    31267\n",
       "True      1968\n",
       "Name: Delivery_Complaint, dtype: int64"
      ]
     },
     "execution_count": 157,
     "metadata": {},
     "output_type": "execute_result"
    }
   ],
   "source": [
    "# 'True' is the number of orders in the dataset having delivery complaints\n",
    "# 'False' is the number of orders in the dataset not having a delivery complaint\n",
    "ab_testing_orders_reviews['Delivery_Complaint'].value_counts()"
   ]
  },
  {
   "cell_type": "code",
   "execution_count": 158,
   "metadata": {},
   "outputs": [],
   "source": [
    "# Number of Delivery complains in the Control and Treatment Groups\n",
    "successes = ab_testing_orders_reviews.groupby('group')['Delivery_Complaint'].sum()"
   ]
  },
  {
   "cell_type": "code",
   "execution_count": 159,
   "metadata": {},
   "outputs": [
    {
     "data": {
      "text/plain": [
       "group\n",
       "Control      1013\n",
       "Treatment     955\n",
       "Name: Delivery_Complaint, dtype: int64"
      ]
     },
     "execution_count": 159,
     "metadata": {},
     "output_type": "execute_result"
    }
   ],
   "source": [
    "successes"
   ]
  },
  {
   "cell_type": "code",
   "execution_count": 160,
   "metadata": {},
   "outputs": [],
   "source": [
    "# Sample Size taken for the Control and Treatment Groups\n",
    "# This counts the number of True values in the Control and Treatment groups. Remember, True means review_title = Late Delivery\n",
    "sample_size = ab_testing_orders_reviews.groupby('group')['order_id'].count()"
   ]
  },
  {
   "cell_type": "code",
   "execution_count": 166,
   "metadata": {},
   "outputs": [
    {
     "name": "stdout",
     "output_type": "stream",
     "text": [
      "group\n",
      "Control      0.067533\n",
      "Treatment    0.052372\n",
      "dtype: float64\n"
     ]
    }
   ],
   "source": [
    "proportions = successes/ sample_size\n",
    "\n",
    "print(proportions.head())"
   ]
  },
  {
   "cell_type": "markdown",
   "metadata": {},
   "source": [
    "### With Library"
   ]
  },
  {
   "cell_type": "markdown",
   "metadata": {},
   "source": [
    "### **Hypothesis**"
   ]
  },
  {
   "cell_type": "code",
   "execution_count": 36,
   "metadata": {},
   "outputs": [
    {
     "data": {
      "image/png": "[encoded data removed]",
      "text/plain": [
       "<IPython.core.display.Image object>"
      ]
     },
     "execution_count": 36,
     "metadata": {},
     "output_type": "execute_result"
    }
   ],
   "source": [
    "Image('proportions_test.png')"
   ]
  },
  {
   "cell_type": "code",
   "execution_count": 162,
   "metadata": {},
   "outputs": [],
   "source": [
    "z_statistic, p_value = proportions_ztest(successes, sample_size, alternative = 'two-sided')"
   ]
  },
  {
   "cell_type": "code",
   "execution_count": 163,
   "metadata": {},
   "outputs": [
    {
     "name": "stdout",
     "output_type": "stream",
     "text": [
      "z_statistic =  5.827515932146575\n",
      "p_value =  5.6258480616739625e-09\n"
     ]
    }
   ],
   "source": [
    "print('z_statistic = ', z_statistic)\n",
    "print('p_value = ', p_value)"
   ]
  },
  {
   "cell_type": "markdown",
   "metadata": {},
   "source": [
    "Depending on the level of significance (α), I can decide to accept or reject the alternate hypothesis\n",
    "\n",
    "If α = 0.05\n",
    "\n",
    "I reject H0, since: p value < α <br>\n",
    "     &emsp; &emsp; &emsp; &emsp; &emsp; &emsp;            5.62585e-09 < 0.05\n",
    "                    \n",
    "**Conclusion:**<br>\n",
    "There is a significant difference between the two samples"
   ]
  },
  {
   "cell_type": "markdown",
   "metadata": {},
   "source": [
    "### Without library"
   ]
  },
  {
   "cell_type": "code",
   "execution_count": 39,
   "metadata": {},
   "outputs": [
    {
     "data": {
      "image/png": "[encoded data removed]",
      "text/plain": [
       "<IPython.core.display.Image object>"
      ]
     },
     "execution_count": 39,
     "metadata": {},
     "output_type": "execute_result"
    }
   ],
   "source": [
    "Image('proportions_test.png')"
   ]
  },
  {
   "cell_type": "code",
   "execution_count": 40,
   "metadata": {},
   "outputs": [
    {
     "data": {
      "image/png": "[encoded data removed]",
      "text/plain": [
       "<IPython.core.display.Image object>"
      ]
     },
     "execution_count": 40,
     "metadata": {},
     "output_type": "execute_result"
    }
   ],
   "source": [
    "Image('p_.png')"
   ]
  },
  {
   "cell_type": "code",
   "execution_count": 164,
   "metadata": {},
   "outputs": [],
   "source": [
    "p = sum(successes)/sum(sample_size)"
   ]
  },
  {
   "cell_type": "code",
   "execution_count": 42,
   "metadata": {},
   "outputs": [
    {
     "data": {
      "image/png": "[encoded data removed]",
      "text/plain": [
       "<IPython.core.display.Image object>"
      ]
     },
     "execution_count": 42,
     "metadata": {},
     "output_type": "execute_result"
    }
   ],
   "source": [
    "Image('sample_std_.png')"
   ]
  },
  {
   "cell_type": "code",
   "execution_count": 165,
   "metadata": {},
   "outputs": [],
   "source": [
    "sp = np.sqrt(p*(1-p)*sum(1/sample_size))"
   ]
  },
  {
   "cell_type": "code",
   "execution_count": 44,
   "metadata": {},
   "outputs": [
    {
     "data": {
      "image/png": "[encoded data removed]",
      "text/plain": [
       "<IPython.core.display.Image object>"
      ]
     },
     "execution_count": 44,
     "metadata": {},
     "output_type": "execute_result"
    }
   ],
   "source": [
    "Image('z_statistic_.png')"
   ]
  },
  {
   "cell_type": "code",
   "execution_count": 45,
   "metadata": {},
   "outputs": [],
   "source": [
    "p1 = proportions[0]\n",
    "p2 = proportions[1]"
   ]
  },
  {
   "cell_type": "code",
   "execution_count": 46,
   "metadata": {},
   "outputs": [],
   "source": [
    "z = (p1 - p2)/sp"
   ]
  },
  {
   "cell_type": "code",
   "execution_count": 47,
   "metadata": {},
   "outputs": [],
   "source": [
    "p_value = 2*(1 - sc.norm.cdf(z))"
   ]
  },
  {
   "cell_type": "code",
   "execution_count": 48,
   "metadata": {},
   "outputs": [],
   "source": [
    "α = 0.05"
   ]
  },
  {
   "cell_type": "code",
   "execution_count": 49,
   "metadata": {},
   "outputs": [],
   "source": [
    "z_alpha = sc.norm.ppf(α/2)"
   ]
  },
  {
   "cell_type": "code",
   "execution_count": 50,
   "metadata": {},
   "outputs": [
    {
     "name": "stdout",
     "output_type": "stream",
     "text": [
      "Reject H0\n",
      "The proportions are not equal\n"
     ]
    }
   ],
   "source": [
    "# Reject H0 if z score <= z_alpha or z score >= z_alpha\n",
    "\n",
    "if z<= z_alpha or z>= -z_alpha:\n",
    "    print('Reject H0')\n",
    "    print('The proportions are not equal')\n",
    "\n",
    "else:\n",
    "    print('Cannot Reject H0')"
   ]
  },
  {
   "cell_type": "code",
   "execution_count": 51,
   "metadata": {},
   "outputs": [
    {
     "data": {
      "image/png": "[encoded data removed]",
      "text/plain": [
       "<IPython.core.display.Image object>"
      ]
     },
     "execution_count": 51,
     "metadata": {},
     "output_type": "execute_result"
    }
   ],
   "source": [
    "Image('Distribution_p1p2.png')"
   ]
  },
  {
   "cell_type": "markdown",
   "metadata": {},
   "source": [
    "#### Comparing the actual delivery time against the estimated delivery time for the treatment dataset"
   ]
  },
  {
   "cell_type": "code",
   "execution_count": 52,
   "metadata": {},
   "outputs": [],
   "source": [
    "order_reviews_treatment_group = ab_testing_orders_reviews[ab_testing_orders_reviews['group'] == 'Treatment']"
   ]
  },
  {
   "cell_type": "code",
   "execution_count": 53,
   "metadata": {},
   "outputs": [
    {
     "name": "stderr",
     "output_type": "stream",
     "text": [
      "c:\\users\\prateek.dasgupta\\appdata\\local\\programs\\python\\python37\\lib\\site-packages\\ipykernel_launcher.py:2: SettingWithCopyWarning: \n",
      "A value is trying to be set on a copy of a slice from a DataFrame.\n",
      "Try using .loc[row_indexer,col_indexer] = value instead\n",
      "\n",
      "See the caveats in the documentation: http://pandas.pydata.org/pandas-docs/stable/user_guide/indexing.html#returning-a-view-versus-a-copy\n",
      "  \n",
      "c:\\users\\prateek.dasgupta\\appdata\\local\\programs\\python\\python37\\lib\\site-packages\\ipykernel_launcher.py:3: SettingWithCopyWarning: \n",
      "A value is trying to be set on a copy of a slice from a DataFrame.\n",
      "Try using .loc[row_indexer,col_indexer] = value instead\n",
      "\n",
      "See the caveats in the documentation: http://pandas.pydata.org/pandas-docs/stable/user_guide/indexing.html#returning-a-view-versus-a-copy\n",
      "  This is separate from the ipykernel package so we can avoid doing imports until\n",
      "c:\\users\\prateek.dasgupta\\appdata\\local\\programs\\python\\python37\\lib\\site-packages\\ipykernel_launcher.py:4: SettingWithCopyWarning: \n",
      "A value is trying to be set on a copy of a slice from a DataFrame.\n",
      "Try using .loc[row_indexer,col_indexer] = value instead\n",
      "\n",
      "See the caveats in the documentation: http://pandas.pydata.org/pandas-docs/stable/user_guide/indexing.html#returning-a-view-versus-a-copy\n",
      "  after removing the cwd from sys.path.\n",
      "c:\\users\\prateek.dasgupta\\appdata\\local\\programs\\python\\python37\\lib\\site-packages\\ipykernel_launcher.py:7: SettingWithCopyWarning: \n",
      "A value is trying to be set on a copy of a slice from a DataFrame.\n",
      "Try using .loc[row_indexer,col_indexer] = value instead\n",
      "\n",
      "See the caveats in the documentation: http://pandas.pydata.org/pandas-docs/stable/user_guide/indexing.html#returning-a-view-versus-a-copy\n",
      "  import sys\n",
      "c:\\users\\prateek.dasgupta\\appdata\\local\\programs\\python\\python37\\lib\\site-packages\\ipykernel_launcher.py:10: SettingWithCopyWarning: \n",
      "A value is trying to be set on a copy of a slice from a DataFrame.\n",
      "Try using .loc[row_indexer,col_indexer] = value instead\n",
      "\n",
      "See the caveats in the documentation: http://pandas.pydata.org/pandas-docs/stable/user_guide/indexing.html#returning-a-view-versus-a-copy\n",
      "  # Remove the CWD from sys.path while we load stuff.\n"
     ]
    },
    {
     "data": {
      "text/plain": [
       "(-10, 60)"
      ]
     },
     "execution_count": 53,
     "metadata": {},
     "output_type": "execute_result"
    },
    {
     "data": {
      "image/png": "[encoded data removed]",
      "text/plain": [
       "<Figure size 720x288 with 1 Axes>"
      ]
     },
     "metadata": {
      "needs_background": "light"
     },
     "output_type": "display_data"
    }
   ],
   "source": [
    "# Converting all the dates to pandas datetime format\n",
    "order_reviews_treatment_group['order_approved_at'] = pd.to_datetime(order_reviews_treatment_group['order_approved_at'])\n",
    "order_reviews_treatment_group['order_estimated_delivery_date'] = pd.to_datetime(order_reviews_treatment_group['order_estimated_delivery_date'])\n",
    "order_reviews_treatment_group['order_delivered_customer_date'] = pd.to_datetime(order_reviews_treatment_group['order_delivered_customer_date'])\n",
    "\n",
    "# Calculate actual delivery time from customer buying the product to receiveing the product\n",
    "order_reviews_treatment_group['actual_delivery_time'] = (order_reviews_treatment_group['order_delivered_customer_date'] - order_reviews_treatment_group['order_approved_at']).dt.total_seconds() / 86400\n",
    "\n",
    "# Calculating the estimated delivery time\n",
    "order_reviews_treatment_group['estimated_delivery_time'] = (order_reviews_treatment_group['order_estimated_delivery_date'] - order_reviews_treatment_group['order_approved_at']).dt.total_seconds() / 86400\n",
    "\n",
    "# Comparing the actual delivery time and estimated delivery time\n",
    "plt.figure(figsize=(10,4))\n",
    "plt.title(\"Delivery time in days\")\n",
    "\n",
    "ax1 = sns.kdeplot(order_reviews_treatment_group['actual_delivery_time'].dropna(), color=\"red\", label='Actual Delivery time')\n",
    "ax2 = sns.kdeplot(order_reviews_treatment_group['estimated_delivery_time'].dropna(), color=\"blue\", label='Estimated delivery time')\n",
    "\n",
    "plt.xlim(-10, 60)"
   ]
  },
  {
   "cell_type": "code",
   "execution_count": 54,
   "metadata": {},
   "outputs": [
    {
     "data": {
      "text/plain": [
       "0        99.102951\n",
       "3        91.046262\n",
       "5        92.478322\n",
       "7        68.161111\n",
       "10       65.975278\n",
       "           ...    \n",
       "33222    13.864167\n",
       "33223     4.864132\n",
       "33224     4.645590\n",
       "33231     4.475498\n",
       "33232     5.395058\n",
       "Name: estimated_delivery_time, Length: 18235, dtype: float64"
      ]
     },
     "execution_count": 54,
     "metadata": {},
     "output_type": "execute_result"
    }
   ],
   "source": [
    "order_reviews_treatment_group['estimated_delivery_time']"
   ]
  },
  {
   "cell_type": "code",
   "execution_count": 55,
   "metadata": {},
   "outputs": [],
   "source": [
    "# Testing for a significant difference between the estimated delivery time and actual delivery time\n",
    "sample_estimated_delivery_time = np.array(order_reviews_treatment_group['actual_delivery_time'])\n",
    "sample_actual_delivery_time = np.array(order_reviews_treatment_group['estimated_delivery_time'])"
   ]
  },
  {
   "cell_type": "code",
   "execution_count": 56,
   "metadata": {},
   "outputs": [
    {
     "data": {
      "image/png": "[encoded data removed]",
      "text/plain": [
       "<IPython.core.display.Image object>"
      ]
     },
     "execution_count": 56,
     "metadata": {},
     "output_type": "execute_result"
    }
   ],
   "source": [
    "Image('Hypothesis_comparing_means.png')"
   ]
  },
  {
   "cell_type": "code",
   "execution_count": 57,
   "metadata": {},
   "outputs": [],
   "source": [
    "# Matched sample test\n",
    "t_statistic, p_value = ttest_rel(sample_estimated_delivery_time, sample_actual_delivery_time)"
   ]
  },
  {
   "cell_type": "code",
   "execution_count": 58,
   "metadata": {},
   "outputs": [
    {
     "name": "stdout",
     "output_type": "stream",
     "text": [
      "P value =  0.21684841987770798\n",
      "Cannot Reject H0\n",
      "Populations means are equal\n"
     ]
    }
   ],
   "source": [
    "α = 0.05\n",
    "\n",
    "# Checking p value against α\n",
    "if p_value < α:\n",
    "    print('P value = ', p_value)\n",
    "    print('Reject H0')\n",
    "    print('Populations means are not equal')\n",
    "else:\n",
    "    print('P value = ', p_value)\n",
    "    print('Cannot Reject H0')"
   ]
  }
 ],
 "metadata": {
  "kernelspec": {
   "display_name": "Python 3",
   "language": "python",
   "name": "python3"
  },
  "language_info": {
   "codemirror_mode": {
    "name": "ipython",
    "version": 3
   },
   "file_extension": ".py",
   "mimetype": "text/x-python",
   "name": "python",
   "nbconvert_exporter": "python",
   "pygments_lexer": "ipython3",
   "version": "3.8.5"
  }
 },
 "nbformat": 4,
 "nbformat_minor": 4
}
