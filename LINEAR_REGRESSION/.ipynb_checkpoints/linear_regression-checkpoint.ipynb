{
 "cells": [
  {
   "cell_type": "code",
   "execution_count": 1,
   "metadata": {},
   "outputs": [],
   "source": [
    "import numpy as np\n",
    "import matplotlib.pyplot as plt\n",
    "%matplotlib inline"
   ]
  },
  {
   "cell_type": "markdown",
   "metadata": {},
   "source": [
    "# Linear Regression with NumPy"
   ]
  },
  {
   "cell_type": "code",
   "execution_count": 15,
   "metadata": {},
   "outputs": [
    {
     "data": {
      "image/png": "[encoded data removed]",
      "text/plain": [
       "<Figure size 432x288 with 1 Axes>"
      ]
     },
     "metadata": {
      "needs_background": "light"
     },
     "output_type": "display_data"
    }
   ],
   "source": [
    "x = np.linspace(0, 1, 20)\n",
    "m = 2\n",
    "c = 0.5\n",
    "y = m * x + c\n",
    "plt.plot(x, y)\n",
    "plt.axis([-0.1, 1.1, 0, 3])\n",
    "plt.grid()"
   ]
  },
  {
   "cell_type": "markdown",
   "metadata": {},
   "source": [
    "## Imagine that there is no line"
   ]
  },
  {
   "cell_type": "code",
   "execution_count": 16,
   "metadata": {},
   "outputs": [
    {
     "data": {
      "image/png": "[encoded data removed]",
      "text/plain": [
       "<Figure size 432x288 with 1 Axes>"
      ]
     },
     "metadata": {
      "needs_background": "light"
     },
     "output_type": "display_data"
    }
   ],
   "source": [
    "plt.scatter(x, y, s=5)\n",
    "plt.axis([-0.1, 1.1, 0, 3])\n",
    "plt.grid()"
   ]
  },
  {
   "cell_type": "code",
   "execution_count": null,
   "metadata": {},
   "outputs": [],
   "source": [
    "print(x)"
   ]
  },
  {
   "cell_type": "code",
   "execution_count": null,
   "metadata": {},
   "outputs": [],
   "source": [
    "print(y)"
   ]
  },
  {
   "cell_type": "markdown",
   "metadata": {},
   "source": [
    "## Ordinary Least Squares\n",
    "\n",
    "Recall that,\n",
    "\n",
    "$$\\mathbf{y} = \\mathbf{X}\\mathbf{\\beta} + \\mathbf{\\epsilon}$$\n",
    "\n",
    "and\n",
    "\n",
    "$$\\mathbf{\\hat{\\beta}} = (\\mathbf{X}^{T}\\mathbf{X})^{-1}\\mathbf{X}^{T}\\mathbf{y}$$"
   ]
  },
  {
   "cell_type": "code",
   "execution_count": 17,
   "metadata": {},
   "outputs": [],
   "source": [
    "x = x.reshape(-1, 1)\n",
    "y = y.reshape(-1, 1)"
   ]
  },
  {
   "cell_type": "code",
   "execution_count": 6,
   "metadata": {},
   "outputs": [
    {
     "name": "stdout",
     "output_type": "stream",
     "text": [
      "2\n"
     ]
    }
   ],
   "source": [
    "print(x)"
   ]
  },
  {
   "cell_type": "code",
   "execution_count": 18,
   "metadata": {},
   "outputs": [
    {
     "name": "stdout",
     "output_type": "stream",
     "text": [
      "[[0.5       ]\n",
      " [0.60526316]\n",
      " [0.71052632]\n",
      " [0.81578947]\n",
      " [0.92105263]\n",
      " [1.02631579]\n",
      " [1.13157895]\n",
      " [1.23684211]\n",
      " [1.34210526]\n",
      " [1.44736842]\n",
      " [1.55263158]\n",
      " [1.65789474]\n",
      " [1.76315789]\n",
      " [1.86842105]\n",
      " [1.97368421]\n",
      " [2.07894737]\n",
      " [2.18421053]\n",
      " [2.28947368]\n",
      " [2.39473684]\n",
      " [2.5       ]]\n"
     ]
    }
   ],
   "source": [
    "print(y)"
   ]
  },
  {
   "cell_type": "markdown",
   "metadata": {},
   "source": [
    "Suppose,\n",
    "\n",
    "$$a = (\\mathbf{X}^{T}\\mathbf{X})^{-1}$$\n",
    "and\n",
    "$$b = \\mathbf{X}^{T}\\mathbf{y}$$\n",
    "\n",
    "Therefore,\n",
    "\n",
    "$$\\mathbf{\\hat{\\beta}} = ab$$"
   ]
  },
  {
   "cell_type": "code",
   "execution_count": 19,
   "metadata": {},
   "outputs": [],
   "source": [
    "a = np.linalg.inv(np.dot(x.T, x))\n",
    "b = np.dot(x.T, y)\n",
    "beta_hat = np.dot(a, b)"
   ]
  },
  {
   "cell_type": "code",
   "execution_count": 20,
   "metadata": {},
   "outputs": [
    {
     "data": {
      "text/plain": [
       "array([[2.73076923]])"
      ]
     },
     "execution_count": 20,
     "metadata": {},
     "output_type": "execute_result"
    }
   ],
   "source": [
    "beta_hat"
   ]
  },
  {
   "cell_type": "markdown",
   "metadata": {},
   "source": [
    "$$\\mathbf{\\hat{y}} = \\mathbf{X}\\mathbf{\\hat{\\beta}}$$"
   ]
  },
  {
   "cell_type": "code",
   "execution_count": 21,
   "metadata": {},
   "outputs": [
    {
     "data": {
      "image/png": "[encoded data removed]",
      "text/plain": [
       "<Figure size 432x288 with 1 Axes>"
      ]
     },
     "metadata": {
      "needs_background": "light"
     },
     "output_type": "display_data"
    }
   ],
   "source": [
    "y_hat = np.dot(x, beta_hat)\n",
    "plt.scatter(x, y, s=5, label='Ground Truth')\n",
    "plt.plot(x, y_hat, 'g', label='OLS')\n",
    "plt.legend()\n",
    "plt.axis([-0.1, 1.1, 0, 3])\n",
    "plt.grid()"
   ]
  },
  {
   "cell_type": "markdown",
   "metadata": {},
   "source": [
    "# Question: What went wrong?"
   ]
  },
  {
   "cell_type": "markdown",
   "metadata": {},
   "source": [
    "## Estimating the intercept / error"
   ]
  },
  {
   "cell_type": "code",
   "execution_count": 22,
   "metadata": {},
   "outputs": [
    {
     "name": "stdout",
     "output_type": "stream",
     "text": [
      "[[0.         1.        ]\n",
      " [0.05263158 1.        ]\n",
      " [0.10526316 1.        ]\n",
      " [0.15789474 1.        ]\n",
      " [0.21052632 1.        ]\n",
      " [0.26315789 1.        ]\n",
      " [0.31578947 1.        ]\n",
      " [0.36842105 1.        ]\n",
      " [0.42105263 1.        ]\n",
      " [0.47368421 1.        ]\n",
      " [0.52631579 1.        ]\n",
      " [0.57894737 1.        ]\n",
      " [0.63157895 1.        ]\n",
      " [0.68421053 1.        ]\n",
      " [0.73684211 1.        ]\n",
      " [0.78947368 1.        ]\n",
      " [0.84210526 1.        ]\n",
      " [0.89473684 1.        ]\n",
      " [0.94736842 1.        ]\n",
      " [1.         1.        ]]\n"
     ]
    }
   ],
   "source": [
    "x = np.c_[x, np.ones(x.shape)]\n",
    "\n",
    "print(x)"
   ]
  },
  {
   "cell_type": "code",
   "execution_count": 25,
   "metadata": {},
   "outputs": [
    {
     "name": "stdout",
     "output_type": "stream",
     "text": [
      "(20, 2)\n"
     ]
    }
   ],
   "source": [
    "print(x.shape)"
   ]
  },
  {
   "cell_type": "code",
   "execution_count": 23,
   "metadata": {},
   "outputs": [],
   "source": [
    "a = np.linalg.inv(np.dot(x.T, x))\n",
    "b = np.dot(x.T, y)\n",
    "beta_hat = np.dot(a, b)"
   ]
  },
  {
   "cell_type": "code",
   "execution_count": 24,
   "metadata": {},
   "outputs": [
    {
     "data": {
      "text/plain": [
       "array([[2. ],\n",
       "       [0.5]])"
      ]
     },
     "execution_count": 24,
     "metadata": {},
     "output_type": "execute_result"
    }
   ],
   "source": [
    "beta_hat"
   ]
  },
  {
   "cell_type": "code",
   "execution_count": 26,
   "metadata": {},
   "outputs": [],
   "source": [
    "m_hat, c_hat = beta_hat.ravel()\n",
    "y_hat = x[:, 0] * m_hat + c_hat"
   ]
  },
  {
   "cell_type": "code",
   "execution_count": 27,
   "metadata": {},
   "outputs": [
    {
     "data": {
      "image/png": "[encoded data removed]",
      "text/plain": [
       "<Figure size 432x288 with 1 Axes>"
      ]
     },
     "metadata": {
      "needs_background": "light"
     },
     "output_type": "display_data"
    }
   ],
   "source": [
    "plt.scatter(x[:, 0], y, c='b', s=5, label='Ground Truth')\n",
    "plt.plot(x[:, 0], y_hat, 'g', label='OLS')\n",
    "plt.legend()\n",
    "plt.axis([-0.1, 1.1, 0, 3])\n",
    "plt.grid()"
   ]
  },
  {
   "cell_type": "markdown",
   "metadata": {},
   "source": [
    "# Exercise: Make some noise.\n",
    "#### Step 1: Pick a random slope ($m$) in the interval $[0.5, 2]$\n",
    "#### Step 2: Pick a random intercept ($c$) in the interval $[0, 1]$\n",
    "#### Step 3: Create $y = mx + c$ and add some noise to it, with [`np.random.rand`](https://docs.scipy.org/doc/numpy-1.15.1/reference/generated/numpy.random.rand.html)\n",
    "#### Step 4: Find $m$ and $c$, verify your solution"
   ]
  },
  {
   "cell_type": "code",
   "execution_count": null,
   "metadata": {},
   "outputs": [],
   "source": [
    "# enter code here\n",
    "m = 0\n",
    "c = 0"
   ]
  },
  {
   "cell_type": "code",
   "execution_count": null,
   "metadata": {},
   "outputs": [],
   "source": [
    "x = np.linspace(0, 1, 20)"
   ]
  },
  {
   "cell_type": "code",
   "execution_count": null,
   "metadata": {},
   "outputs": [],
   "source": [
    "# enter code here\n",
    "y = None"
   ]
  },
  {
   "cell_type": "code",
   "execution_count": null,
   "metadata": {},
   "outputs": [],
   "source": [
    "# enter code here\n",
    "m_hat, c_hat = 0, 0"
   ]
  }
 ],
 "metadata": {
  "kernelspec": {
   "display_name": "Python 3",
   "language": "python",
   "name": "python3"
  },
  "language_info": {
   "codemirror_mode": {
    "name": "ipython",
    "version": 3
   },
   "file_extension": ".py",
   "mimetype": "text/x-python",
   "name": "python",
   "nbconvert_exporter": "python",
   "pygments_lexer": "ipython3",
   "version": "3.8.5"
  }
 },
 "nbformat": 4,
 "nbformat_minor": 4
}
